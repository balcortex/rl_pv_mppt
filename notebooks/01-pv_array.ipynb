{
 "metadata": {
  "language_info": {
   "codemirror_mode": {
    "name": "ipython",
    "version": 3
   },
   "file_extension": ".py",
   "mimetype": "text/x-python",
   "name": "python",
   "nbconvert_exporter": "python",
   "pygments_lexer": "ipython3",
   "version": "3.7.7-final"
  },
  "orig_nbformat": 2,
  "kernelspec": {
   "name": "python_defaultSpec_1598662119015",
   "display_name": "Python 3.7.7 64-bit ('venv': venv)"
  }
 },
 "nbformat": 4,
 "nbformat_minor": 2,
 "cells": [
  {
   "cell_type": "code",
   "execution_count": 3,
   "metadata": {},
   "outputs": [],
   "source": [
    "from src.pv_array import PVArray"
   ]
  },
  {
   "cell_type": "code",
   "execution_count": 4,
   "metadata": {
    "tags": []
   },
   "outputs": [
    {
     "output_type": "stream",
     "name": "stderr",
     "text": "INFO 2020-08-28 19:49:50,819 Starting MATLAB engine . . .\nINFO 2020-08-28 19:51:13,411 Model loaded succesfully.\n"
    }
   ],
   "source": [
    "# Initalize the model\n",
    "pvarr = PVArray(float_precision=3)"
   ]
  },
  {
   "cell_type": "code",
   "execution_count": 10,
   "metadata": {
    "tags": []
   },
   "outputs": [
    {
     "output_type": "stream",
     "name": "stdout",
     "text": "Inputs: V=28.4559, G=1000, T=25\nOutput: V=28.456, I=6.279, P=178.661\n"
    }
   ],
   "source": [
    "# Perform the simulation\n",
    "v, g, t = 28.4559, 1000, 25\n",
    "result = pvarr.simulate(v, g, t)\n",
    "print(f\"Inputs: V={v}, G={g}, T={t}\")\n",
    "print(f\"Output: V={result.voltage}, I={result.current}, P={result.power}\")"
   ]
  },
  {
   "cell_type": "code",
   "execution_count": 15,
   "metadata": {
    "tags": []
   },
   "outputs": [
    {
     "output_type": "stream",
     "name": "stderr",
     "text": "INFO 2020-08-28 20:03:28,979 Getting true MPP . . .\nInputs: G=[200, 400, 600, 800, 1000], T=[25, 25, 25, 25, 25]\nOutput: V=[27.57919243, 27.49776832, 27.21478403, 26.77628677, 26.32], I=[1.53179121, 3.05683587, 4.56838975, 6.08131256, 7.57904481], P=[42.24556446, 84.05616465, 124.32774034, 162.83496903, 199.4804595]\n"
    }
   ],
   "source": [
    "# Get the true MPP\n",
    "g = [200, 400, 600, 800, 1000]\n",
    "t = [25, 25, 25, 25, 25]\n",
    "result = pvarr.get_true_mpp(g, t)\n",
    "print(f\"Inputs: G={g}, T={t}\")\n",
    "print(f\"Output: V={result.voltage}, I={result.current}, P={result.power}\")"
   ]
  },
  {
   "cell_type": "code",
   "execution_count": null,
   "metadata": {},
   "outputs": [],
   "source": []
  }
 ]
}