{
 "metadata": {
  "language_info": {
   "codemirror_mode": {
    "name": "ipython",
    "version": 3
   },
   "file_extension": ".py",
   "mimetype": "text/x-python",
   "name": "python",
   "nbconvert_exporter": "python",
   "pygments_lexer": "ipython3",
   "version": "3.8.2-final"
  },
  "orig_nbformat": 2,
  "kernelspec": {
   "name": "python3",
   "display_name": "Python 3"
  }
 },
 "nbformat": 4,
 "nbformat_minor": 2,
 "cells": [
  {
   "cell_type": "code",
   "execution_count": 2,
   "metadata": {},
   "outputs": [],
   "source": [
    "import gym\n",
    "import matplotlib.pyplot as plt\n",
    "import numpy as np\n",
    "import torch\n",
    "import torch.nn as nn\n",
    "import torch.nn.functional as F\n",
    "from tqdm import tqdm\n",
    "\n",
    "from src.agents import DiscreteActorCritic\n",
    "from src.networks import DiscreteActorCriticNetwork\n",
    "\n",
    "GAMMA = 0.99\n",
    "LEARNING_RATE = 0.01\n",
    "ENTROPY_BETA = 0.001\n",
    "N_STEPS = 8\n",
    "BATCH_SIZE = 16\n",
    "\n",
    "CHECKPOINT_PATH = os.path.join(\"models\", \"01_cartpole_ac.tar\")\n",
    "\n",
    "\n",
    "\n",
    "env = gym.make(\"CartPole-v0\")\n",
    "test_env = gym.make(\"CartPole-v0\")\n",
    "device = torch.device(\"cpu\")\n",
    "net = DiscreteActorCriticNetwork(\n",
    "    env.observation_space.shape[0], env.action_space.n\n",
    ").to(device)\n",
    "\n",
    "agent = DiscreteActorCritic(\n",
    "    env=env,\n",
    "    test_env=test_env,\n",
    "    net=net,\n",
    "    device=device,\n",
    "    gamma=GAMMA,\n",
    "    beta_entropy=ENTROPY_BETA,\n",
    "    lr=LEARNING_RATE,\n",
    "    n_steps=N_STEPS,\n",
    "    batch_size=BATCH_SIZE,\n",
    "    # chk_path=None,\n",
    "    chk_path=CHECKPOINT_PATH,\n",
    ")"
   ]
  },
  {
   "cell_type": "code",
   "execution_count": 3,
   "metadata": {},
   "outputs": [
    {
     "output_type": "stream",
     "name": "stderr",
     "text": [
      "100%|██████████| 1000/1000 [00:31<00:00, 31.61it/s]\n",
      "INFO 2020-11-12 20:10:57,690 Checkpoint saved to models\\01_cartpole_ac.tar\n"
     ]
    }
   ],
   "source": [
    "agent.train(1000, verbose_every=0)\n",
    "# agent.plot_performance()"
   ]
  },
  {
   "cell_type": "code",
   "execution_count": 4,
   "metadata": {},
   "outputs": [
    {
     "output_type": "execute_result",
     "data": {
      "text/plain": [
       "200.0"
      ]
     },
     "metadata": {},
     "execution_count": 4
    }
   ],
   "source": [
    "agent.test(num_episodes=100)"
   ]
  },
  {
   "cell_type": "code",
   "execution_count": null,
   "metadata": {},
   "outputs": [],
   "source": []
  }
 ]
}